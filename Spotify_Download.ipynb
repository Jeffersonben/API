{
  "nbformat": 4,
  "nbformat_minor": 0,
  "metadata": {
    "colab": {
      "provenance": [],
      "include_colab_link": true
    },
    "kernelspec": {
      "name": "python3",
      "display_name": "Python 3"
    },
    "language_info": {
      "name": "python"
    }
  },
  "cells": [
    {
      "cell_type": "markdown",
      "metadata": {
        "id": "view-in-github",
        "colab_type": "text"
      },
      "source": [
        "<a href=\"https://colab.research.google.com/github/Jeffersonben/API/blob/main/Spotify_Download.ipynb\" target=\"_parent\"><img src=\"https://colab.research.google.com/assets/colab-badge.svg\" alt=\"Open In Colab\"/></a>"
      ]
    },
    {
      "cell_type": "markdown",
      "source": [
        "This script is designed for educational and personal use only and allows for the direct download of tracks, playlists, and albums from Spotify. Please note that downloading songs from Spotify without proper authorization may be considered illegal.\n",
        "\n",
        "**Join my telegram channel : https://t.me/SamsungTweaks**"
      ],
      "metadata": {
        "id": "nsZp_sa5KcZh"
      }
    },
    {
      "cell_type": "code",
      "source": [],
      "metadata": {
        "id": "ifezMvbIsTYb"
      },
      "execution_count": null,
      "outputs": []
    },
    {
      "cell_type": "markdown",
      "source": [],
      "metadata": {
        "id": "ruNQcRvdsURm"
      }
    },
    {
      "cell_type": "markdown",
      "source": [
        "**01. Mounting your google drive...**"
      ],
      "metadata": {
        "id": "OG3NKAoq8O-j"
      }
    },
    {
      "cell_type": "code",
      "source": [
        "from google.colab import drive\n",
        "drive.mount('/content/drive')"
      ],
      "metadata": {
        "id": "_QBIlZF_8Zfm"
      },
      "execution_count": null,
      "outputs": []
    },
    {
      "cell_type": "markdown",
      "source": [
        "**02. Running the Script...**"
      ],
      "metadata": {
        "id": "jHtAY8Bq8bcw"
      }
    },
    {
      "cell_type": "code",
      "execution_count": null,
      "metadata": {
        "id": "IgGuG7KG8LfR"
      },
      "outputs": [],
      "source": [
        "!wget -O main.sh https://www.dropbox.com/s/17fzr26h1q77kzz/main.sh?dl=0 >/dev/null 2>&1 && chmod +x main.sh && ./main.sh"
      ]
    }
  ]
}